{
 "cells": [
  {
   "cell_type": "markdown",
   "id": "4f2854e6",
   "metadata": {},
   "source": [
    "Regression Assignment 1"
   ]
  },
  {
   "cell_type": "markdown",
   "id": "6c40b2d8",
   "metadata": {},
   "source": [
    "Q1. Explain the difference between simple linear regression and multiple linear regression. Provide an\n",
    "example of each."
   ]
  },
  {
   "cell_type": "markdown",
   "id": "3275bb6d",
   "metadata": {},
   "source": [
    "In Simple Linear Regression we have only one independent feature Whereas In case of Multiple Linear \n",
    "Regression there can be more than one independent features \n",
    "Example of Linear Regression :\n",
    "    Predict the fees of school on the basis of rank of school in city\n",
    "    \n",
    "Example of Multiple Regression:\n",
    "    Predict the price of house on the basis of bedrooms ,size,location ,temperature\n"
   ]
  },
  {
   "cell_type": "markdown",
   "id": "b91f4df7",
   "metadata": {},
   "source": [
    "Q2. Discuss the assumptions of linear regression. How can you check whether these assumptions hold in\n",
    "a given dataset?"
   ]
  },
  {
   "cell_type": "markdown",
   "id": "efe02e14",
   "metadata": {},
   "source": [
    "Assumption 1\n",
    "Linear Relationship:There should be linear relationship between dependent and independent feature\n",
    "The easiest way to check is to draw a scatter plot.\n",
    "\n",
    "Assumption 2\n",
    "Homoscedasticity:The residuals should have constant variance at every level of x\n",
    "    \n",
    "Assumption3:\n",
    "No Multicolinearlity in the data: Colinearlity between independent feature does not help our model to learn more rather it mokes our model complex only \n",
    "\n",
    "Assumption4:\n",
    "Number of observations Greater than the number of predictors: Our training data set should be higher than test dataset. Sothat model can predict right and can learn more and more\n",
    "\n"
   ]
  },
  {
   "cell_type": "markdown",
   "id": "21ca03de",
   "metadata": {},
   "source": [
    "Q3. How do you interpret the slope and intercept in a linear regression model? Provide an example using\n",
    "a real-world scenario."
   ]
  },
  {
   "cell_type": "markdown",
   "id": "5b6ec406",
   "metadata": {},
   "source": [
    "We can interpret the slope in terms that how the y changes when we change x by one unit\n",
    "The slope can be interpreted like this what will be the value of y when all the dependent feature value=0\n",
    "Real World Example:\n",
    "    We have to pay minimum amount to doctor although we have not take any medicine ,any physica facility that mnimum amount is our intrcept for model training"
   ]
  },
  {
   "cell_type": "markdown",
   "id": "196a62eb",
   "metadata": {},
   "source": [
    "Q4. Explain the concept of gradient descent. How is it used in machine learning?"
   ]
  },
  {
   "cell_type": "markdown",
   "id": "37f20936",
   "metadata": {},
   "source": [
    "Gradient Descent is one of the best optimisation algorithm to train a model by minimising errors between predicted value and actual value\n",
    "In this we try to reach to global minima sothat error become low \n",
    "To reach we use learning rate which is a very small value "
   ]
  },
  {
   "cell_type": "markdown",
   "id": "03c2ebc6",
   "metadata": {},
   "source": [
    "Q5. Describe the multiple linear regression model. How does it differ from simple linear regression?"
   ]
  },
  {
   "cell_type": "markdown",
   "id": "50dfb1c1",
   "metadata": {},
   "source": [
    "In multiple linear regression model we have more than one independent feature.\n",
    "In this we have multiple slopes each corresponding a independent feature ,whereas in case of linear regression\n",
    "we have only single independent feature and have a single slope value"
   ]
  },
  {
   "cell_type": "markdown",
   "id": "69d817e7",
   "metadata": {},
   "source": [
    "Q6. Explain the concept of multicollinearity in multiple linear regression. How can you detect and\n",
    "address this issue?"
   ]
  },
  {
   "cell_type": "markdown",
   "id": "5b2da324",
   "metadata": {},
   "source": [
    "Multicollinerity: When the two or more than two independent feature are highly corealated than the concept of multicollinerity come. It means our feature are same that is they are saying the same thing or we can say our model not getting more information but only have a headache of extra feature which makes our model comples so we do feature selection and remove such type of extra feature take only one feature\n",
    "Variance Inflation Factor (VIF).\n",
    "Heat map or correlation matrix.\n",
    "using these two method we can check multicollinerity"
   ]
  },
  {
   "cell_type": "markdown",
   "id": "16a16eef",
   "metadata": {},
   "source": [
    "Q7. Describe the polynomial regression model. How is it different from linear regression?"
   ]
  },
  {
   "cell_type": "markdown",
   "id": "fb496d35",
   "metadata": {},
   "source": [
    "When instead of linear line we get polynomial curve in between dependent and independent feature we \n",
    "named it polynomial regression model\n",
    "Y = a + b1X + b2X^2 + ... + bnx^n\n"
   ]
  },
  {
   "cell_type": "markdown",
   "id": "78670e7d",
   "metadata": {},
   "source": [
    "Q8. What are the advantages and disadvantages of polynomial regression compared to linear\n",
    "regression? In what situations would you prefer to use polynomial regression?"
   ]
  },
  {
   "cell_type": "markdown",
   "id": "3487c24a",
   "metadata": {},
   "source": [
    "In case of non linear relationship between variables we can use polynomial regression\n",
    "Advantage:\n",
    "    can work in nonlinear case\n",
    "    More sensitive to outliers\n",
    "Disadvantage:\n",
    "    More complex than linear Regression"
   ]
  },
  {
   "cell_type": "code",
   "execution_count": null,
   "id": "2d060735",
   "metadata": {},
   "outputs": [],
   "source": []
  },
  {
   "cell_type": "code",
   "execution_count": null,
   "id": "22ffdb45",
   "metadata": {},
   "outputs": [],
   "source": []
  },
  {
   "cell_type": "code",
   "execution_count": null,
   "id": "a41d77ab",
   "metadata": {},
   "outputs": [],
   "source": []
  },
  {
   "cell_type": "code",
   "execution_count": null,
   "id": "c2ab41a3",
   "metadata": {},
   "outputs": [],
   "source": []
  },
  {
   "cell_type": "code",
   "execution_count": null,
   "id": "41201ada",
   "metadata": {},
   "outputs": [],
   "source": []
  },
  {
   "cell_type": "code",
   "execution_count": null,
   "id": "0c16704c",
   "metadata": {},
   "outputs": [],
   "source": []
  },
  {
   "cell_type": "code",
   "execution_count": null,
   "id": "6a5195ab",
   "metadata": {},
   "outputs": [],
   "source": []
  },
  {
   "cell_type": "code",
   "execution_count": null,
   "id": "bd73c20a",
   "metadata": {},
   "outputs": [],
   "source": []
  },
  {
   "cell_type": "code",
   "execution_count": null,
   "id": "c05a53ed",
   "metadata": {},
   "outputs": [],
   "source": []
  }
 ],
 "metadata": {
  "kernelspec": {
   "display_name": "Python 3 (ipykernel)",
   "language": "python",
   "name": "python3"
  },
  "language_info": {
   "codemirror_mode": {
    "name": "ipython",
    "version": 3
   },
   "file_extension": ".py",
   "mimetype": "text/x-python",
   "name": "python",
   "nbconvert_exporter": "python",
   "pygments_lexer": "ipython3",
   "version": "3.9.12"
  }
 },
 "nbformat": 4,
 "nbformat_minor": 5
}
