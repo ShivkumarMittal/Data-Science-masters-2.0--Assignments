{
 "cells": [
  {
   "cell_type": "markdown",
   "id": "56defd64-6baa-4ffe-93ed-6cb85cd705ae",
   "metadata": {},
   "source": [
    "Que_1: How do you comment code in Python ? What are the different types of comment?"
   ]
  },
  {
   "cell_type": "markdown",
   "id": "d68e8729-a511-4eec-a07f-c32dd824aea0",
   "metadata": {},
   "source": [
    "There are two types of comment in Python\n",
    "(i) Single line comment\n",
    "(ii) Multi line comment"
   ]
  },
  {
   "cell_type": "code",
   "execution_count": 20,
   "id": "a1f0bfe4-6962-41f8-a5ef-b66427b3e7dc",
   "metadata": {},
   "outputs": [],
   "source": [
    "#This is a single line comment"
   ]
  },
  {
   "cell_type": "code",
   "execution_count": 37,
   "id": "8b97a052-2331-4926-bbdb-56ff50b51f23",
   "metadata": {},
   "outputs": [
    {
     "name": "stdout",
     "output_type": "stream",
     "text": [
      "54\n"
     ]
    }
   ],
   "source": [
    "\"\"\"\n",
    "This is a \n",
    "multi line \n",
    "comment \n",
    "first way\n",
    "\"\"\"\n",
    "print(54)"
   ]
  },
  {
   "cell_type": "code",
   "execution_count": 38,
   "id": "ac8f58fe-8987-49cd-ae99-8437786cc5d9",
   "metadata": {},
   "outputs": [
    {
     "name": "stdout",
     "output_type": "stream",
     "text": [
      "54\n"
     ]
    }
   ],
   "source": [
    "'''\n",
    "This is a \n",
    "multi line\n",
    "comment\n",
    "second way\n",
    "'''\n",
    "print(54)"
   ]
  },
  {
   "cell_type": "code",
   "execution_count": 39,
   "id": "3679930e-2e70-4394-8617-45c2bdc75475",
   "metadata": {},
   "outputs": [
    {
     "name": "stdout",
     "output_type": "stream",
     "text": [
      "54\n"
     ]
    }
   ],
   "source": [
    "#This is a \n",
    "#multi line comment\n",
    "# third way\n",
    "print(54)"
   ]
  },
  {
   "cell_type": "markdown",
   "id": "dd21bc12-628d-49bf-ba97-e672d261204c",
   "metadata": {},
   "source": [
    "Que_2: What are variable in Python ? how do you declare and assign values to variables?"
   ]
  },
  {
   "cell_type": "markdown",
   "id": "2dd0c268-5e0e-47d9-9a77-f0e90eac691e",
   "metadata": {},
   "source": [
    "Variables are used to store the value to a particular memory location and that memory location is represent by that variable name\n",
    "\n",
    "There are some rules for variable declaration like \n",
    "(i) We can not use special character  except underscore( _ )  \n",
    "(ii) We can not use numeric value at starting\n",
    "(iii) we can not use reserve word for variable name ex int ,float etc"
   ]
  },
  {
   "cell_type": "code",
   "execution_count": 58,
   "id": "388070e1-657a-4279-91f7-64d6172aa409",
   "metadata": {},
   "outputs": [],
   "source": [
    "a=45"
   ]
  },
  {
   "cell_type": "code",
   "execution_count": 66,
   "id": "7674e484-634e-48a2-aa02-5ce33fae5a44",
   "metadata": {},
   "outputs": [],
   "source": [
    "b1=\"nishant\""
   ]
  },
  {
   "cell_type": "code",
   "execution_count": 67,
   "id": "100604e2-da08-467c-b6ad-db17ac69e52b",
   "metadata": {},
   "outputs": [],
   "source": [
    "_1f = 45.85"
   ]
  },
  {
   "cell_type": "markdown",
   "id": "86ad1094-16a6-4dc9-8789-aded2a1cdfb0",
   "metadata": {},
   "source": [
    "Que_3: How do you convert one datatype to another in python"
   ]
  },
  {
   "cell_type": "markdown",
   "id": "cbdd4d05-3165-47a4-9f82-b02200525418",
   "metadata": {},
   "source": [
    "With the help of typecasting we can convert one datatype to another datatype. It is of two types:\n",
    "(a) Implicit (b) Explicit typecasting"
   ]
  },
  {
   "cell_type": "markdown",
   "id": "75a9a815-91c5-4a49-a3d8-396bfc98733b",
   "metadata": {},
   "source": [
    "Implicit Typecasting: type conversion occur without user involvement by the system ex:"
   ]
  },
  {
   "cell_type": "code",
   "execution_count": 1,
   "id": "5101a8f0-c647-4e8e-9f08-56138ec1f517",
   "metadata": {},
   "outputs": [
    {
     "data": {
      "text/plain": [
       "int"
      ]
     },
     "execution_count": 1,
     "metadata": {},
     "output_type": "execute_result"
    }
   ],
   "source": [
    "a=5\n",
    "type(a)"
   ]
  },
  {
   "cell_type": "code",
   "execution_count": 6,
   "id": "38b25be0-efd5-49bf-bd9f-9f647e6e75c0",
   "metadata": {},
   "outputs": [
    {
     "data": {
      "text/plain": [
       "int"
      ]
     },
     "execution_count": 6,
     "metadata": {},
     "output_type": "execute_result"
    }
   ],
   "source": [
    "b=5\n",
    "type(b)"
   ]
  },
  {
   "cell_type": "code",
   "execution_count": 8,
   "id": "cfb83242-100e-4113-8fb6-a488b3695a24",
   "metadata": {},
   "outputs": [
    {
     "data": {
      "text/plain": [
       "int"
      ]
     },
     "execution_count": 8,
     "metadata": {},
     "output_type": "execute_result"
    }
   ],
   "source": [
    "c=a//b\n",
    "type(c)"
   ]
  },
  {
   "cell_type": "markdown",
   "id": "d95ccab4-27a8-48de-8d88-6b9668a89421",
   "metadata": {},
   "source": [
    "Now changing b to float value then c convert to float automatically"
   ]
  },
  {
   "cell_type": "code",
   "execution_count": 9,
   "id": "7dd4f52f-0831-45b9-897a-dfed4caaa7d0",
   "metadata": {},
   "outputs": [
    {
     "data": {
      "text/plain": [
       "float"
      ]
     },
     "execution_count": 9,
     "metadata": {},
     "output_type": "execute_result"
    }
   ],
   "source": [
    "b=5.0\n",
    "type(b)"
   ]
  },
  {
   "cell_type": "code",
   "execution_count": 10,
   "id": "e21cb2a3-450f-4c42-8109-ec460d8daee0",
   "metadata": {},
   "outputs": [
    {
     "data": {
      "text/plain": [
       "float"
      ]
     },
     "execution_count": 10,
     "metadata": {},
     "output_type": "execute_result"
    }
   ],
   "source": [
    "c=a//b\n",
    "type(c)"
   ]
  },
  {
   "cell_type": "markdown",
   "id": "01149a68-5ddf-41cf-a010-f479ccd1f1fd",
   "metadata": {},
   "source": [
    "Explicit typecasting : user do the typecasting with the intension"
   ]
  },
  {
   "cell_type": "code",
   "execution_count": 13,
   "id": "d8b791bd-055f-44e0-b2a0-8c003b7af614",
   "metadata": {},
   "outputs": [
    {
     "data": {
      "text/plain": [
       "str"
      ]
     },
     "execution_count": 13,
     "metadata": {},
     "output_type": "execute_result"
    }
   ],
   "source": [
    "a='45'\n",
    "type(a)"
   ]
  },
  {
   "cell_type": "code",
   "execution_count": 14,
   "id": "8adc6204-dc49-4011-b62d-29d0ea5bd4c2",
   "metadata": {},
   "outputs": [
    {
     "data": {
      "text/plain": [
       "int"
      ]
     },
     "execution_count": 14,
     "metadata": {},
     "output_type": "execute_result"
    }
   ],
   "source": [
    "a=int('45')\n",
    "type(a)"
   ]
  },
  {
   "cell_type": "code",
   "execution_count": 16,
   "id": "07cffa9b-42c1-45e9-b130-241af643ecb4",
   "metadata": {},
   "outputs": [
    {
     "name": "stdout",
     "output_type": "stream",
     "text": [
      "627\n"
     ]
    }
   ],
   "source": [
    "#for doing addition we convert str to int and then add int with int\n",
    "b=582\n",
    "c=a+b\n",
    "print(c)"
   ]
  },
  {
   "cell_type": "markdown",
   "id": "c744b32b-5c52-40ac-8ac0-fffabe9debc3",
   "metadata": {},
   "source": [
    "Que_4 : How do you write and execute a Python script from the command line?"
   ]
  },
  {
   "cell_type": "markdown",
   "id": "bdc1cf70-19f3-4c8d-a3ec-e2eb4d1a6637",
   "metadata": {},
   "source": [
    "Firtly we have to save our file with .py extension\n",
    "\n",
    "To execute a Python script from command line we have to give proper address of that .py file and then use python keyboard and then write file name\n",
    "\n",
    "here I save hello.py file inside shivk and then execute it in cmd like this\n",
    "\n",
    "C:\\Users\\shivk>python hello.py\n",
    "\n",
    "hello world(output come)"
   ]
  },
  {
   "cell_type": "markdown",
   "id": "8d174189-f6b1-4e11-ae0c-72c1e7e99dcb",
   "metadata": {},
   "source": [
    "Que_5: Given a list my_list=[1,2,3,4,5].write the code to slice the list and obtain the sub-list[2,3]"
   ]
  },
  {
   "cell_type": "code",
   "execution_count": 1,
   "id": "3a683648-8364-4ff4-b2a3-f16399099208",
   "metadata": {},
   "outputs": [
    {
     "data": {
      "text/plain": [
       "[1, 2, 3, 4, 5]"
      ]
     },
     "execution_count": 1,
     "metadata": {},
     "output_type": "execute_result"
    }
   ],
   "source": [
    "my_list = [1,2,3,4,5]\n",
    "my_list[0:5:1]"
   ]
  },
  {
   "cell_type": "code",
   "execution_count": 3,
   "id": "9dc8fce4-0d08-4686-8fdb-a59f8e88efce",
   "metadata": {},
   "outputs": [
    {
     "data": {
      "text/plain": [
       "[2, 3]"
      ]
     },
     "execution_count": 3,
     "metadata": {},
     "output_type": "execute_result"
    }
   ],
   "source": [
    "sub_list=[]\n",
    "sub_list.append(my_list[1])\n",
    "sub_list.append(my_list[2])\n",
    "sub_list"
   ]
  },
  {
   "cell_type": "code",
   "execution_count": 5,
   "id": "393f4d21-0705-4317-bce4-a3de1b346b4e",
   "metadata": {},
   "outputs": [
    {
     "data": {
      "text/plain": [
       "[2, 3]"
      ]
     },
     "execution_count": 5,
     "metadata": {},
     "output_type": "execute_result"
    }
   ],
   "source": [
    "my_list[1:3:1]"
   ]
  },
  {
   "cell_type": "markdown",
   "id": "4d00b2f1-78e1-445f-ac4d-e7eb2cef61d5",
   "metadata": {},
   "source": [
    "Que_6: What is a complex number in mathematics ,and how it is represented in python?"
   ]
  },
  {
   "cell_type": "markdown",
   "id": "93490b11-208f-4981-aef0-38b44a8cb48f",
   "metadata": {},
   "source": [
    "In Mathematics:For the imaginary part we use 'i' key. ex: 5+4i,8+9i but\n",
    "\n",
    "In Python : For the imaginary part we use 'j' key. ex: 5+4j,8+9j\n",
    "\n",
    "here 8 ,5 without 'j' is a real part of complex no whereas the part combined with 'j' i.e 8j,9j is a imaginary part"
   ]
  },
  {
   "cell_type": "code",
   "execution_count": 7,
   "id": "a92e133a-8a8c-484d-8dc9-a6d892bfee10",
   "metadata": {},
   "outputs": [
    {
     "data": {
      "text/plain": [
       "complex"
      ]
     },
     "execution_count": 7,
     "metadata": {},
     "output_type": "execute_result"
    }
   ],
   "source": [
    "c = 5+4j\n",
    "type(c)"
   ]
  },
  {
   "cell_type": "code",
   "execution_count": 9,
   "id": "c4cc59d0-b4a3-437e-b7cb-4ce8ec619237",
   "metadata": {},
   "outputs": [
    {
     "data": {
      "text/plain": [
       "5.0"
      ]
     },
     "execution_count": 9,
     "metadata": {},
     "output_type": "execute_result"
    }
   ],
   "source": [
    "c.real"
   ]
  },
  {
   "cell_type": "code",
   "execution_count": 12,
   "id": "554e0a04-e22c-42ac-b006-712b9f65fc9c",
   "metadata": {},
   "outputs": [
    {
     "data": {
      "text/plain": [
       "4.0"
      ]
     },
     "execution_count": 12,
     "metadata": {},
     "output_type": "execute_result"
    }
   ],
   "source": [
    "c.imag"
   ]
  },
  {
   "cell_type": "markdown",
   "id": "ebbe8d18-89fb-49e3-a70f-bb8cd8054e28",
   "metadata": {},
   "source": [
    "Que_7 : What is the correct way to declare a variable named age and assign the value 25 to it?"
   ]
  },
  {
   "cell_type": "code",
   "execution_count": 13,
   "id": "16eeff13-affe-451c-8f2f-b43151b30aca",
   "metadata": {},
   "outputs": [],
   "source": [
    "age = 25"
   ]
  },
  {
   "cell_type": "code",
   "execution_count": 14,
   "id": "edc3f21a-1367-477b-b75e-ff14f4471419",
   "metadata": {},
   "outputs": [
    {
     "data": {
      "text/plain": [
       "25"
      ]
     },
     "execution_count": 14,
     "metadata": {},
     "output_type": "execute_result"
    }
   ],
   "source": [
    "age"
   ]
  },
  {
   "cell_type": "markdown",
   "id": "4672a3e4-02dd-43f9-877c-79e15e8b43c8",
   "metadata": {},
   "source": [
    "Que_8: Declare a vaariable named price and assign the value 9.99 to it . what data type does this variable belong to?"
   ]
  },
  {
   "cell_type": "code",
   "execution_count": 15,
   "id": "37f4c186-95f0-4330-9a5f-00626ffbc7af",
   "metadata": {},
   "outputs": [],
   "source": [
    "price = 9.99"
   ]
  },
  {
   "cell_type": "code",
   "execution_count": 16,
   "id": "45ee9fa1-ca07-43a5-be50-5d09a9e70792",
   "metadata": {},
   "outputs": [
    {
     "data": {
      "text/plain": [
       "float"
      ]
     },
     "execution_count": 16,
     "metadata": {},
     "output_type": "execute_result"
    }
   ],
   "source": [
    "type(price)"
   ]
  },
  {
   "cell_type": "markdown",
   "id": "8a0a4382-efe6-450e-86d0-0fda4f2072d1",
   "metadata": {},
   "source": [
    "Que_9 : Create  a variable named name and assign your full name to it as a string. How would you print the value of this variable?"
   ]
  },
  {
   "cell_type": "code",
   "execution_count": 17,
   "id": "f83859e9-b2b0-41ee-ac49-46e1c8905504",
   "metadata": {},
   "outputs": [],
   "source": [
    "name = \"Shivkumar Mittal\""
   ]
  },
  {
   "cell_type": "code",
   "execution_count": 18,
   "id": "85e63633-d057-4539-940d-5f0697c983ba",
   "metadata": {},
   "outputs": [
    {
     "data": {
      "text/plain": [
       "str"
      ]
     },
     "execution_count": 18,
     "metadata": {},
     "output_type": "execute_result"
    }
   ],
   "source": [
    "type(name)"
   ]
  },
  {
   "cell_type": "code",
   "execution_count": 19,
   "id": "359804fa-7a60-48a3-8853-9ee2aeb56f42",
   "metadata": {},
   "outputs": [
    {
     "name": "stdout",
     "output_type": "stream",
     "text": [
      "Shivkumar Mittal\n"
     ]
    }
   ],
   "source": [
    "print(name)"
   ]
  },
  {
   "cell_type": "markdown",
   "id": "663103e4-dd08-4c33-bff5-360997afa849",
   "metadata": {},
   "source": [
    "Que_10 : Given the String \"Hello,World!\",extract the substring \"World\"."
   ]
  },
  {
   "cell_type": "code",
   "execution_count": 25,
   "id": "790e230b-870a-4944-8903-8c6be8b3ef96",
   "metadata": {},
   "outputs": [],
   "source": [
    "string = \"Hello, World!\""
   ]
  },
  {
   "cell_type": "code",
   "execution_count": 27,
   "id": "ddc67bcc-c5ed-4a26-898b-eae6c79c5588",
   "metadata": {},
   "outputs": [
    {
     "data": {
      "text/plain": [
       "'World'"
      ]
     },
     "execution_count": 27,
     "metadata": {},
     "output_type": "execute_result"
    }
   ],
   "source": [
    "string[7:12:1]"
   ]
  },
  {
   "cell_type": "markdown",
   "id": "5d9b3c93-2f62-4c94-ae9c-2c8f51862c3e",
   "metadata": {},
   "source": [
    "Que_11 : Create a variable named \"is_student\" and assign it a boolean value indicating weather you are currently a student or not. "
   ]
  },
  {
   "cell_type": "code",
   "execution_count": null,
   "id": "12613e2e-766d-494a-97a2-502574c5ae1c",
   "metadata": {},
   "outputs": [],
   "source": [
    "is_student = True "
   ]
  }
 ],
 "metadata": {
  "kernelspec": {
   "display_name": "Python 3 (ipykernel)",
   "language": "python",
   "name": "python3"
  },
  "language_info": {
   "codemirror_mode": {
    "name": "ipython",
    "version": 3
   },
   "file_extension": ".py",
   "mimetype": "text/x-python",
   "name": "python",
   "nbconvert_exporter": "python",
   "pygments_lexer": "ipython3",
   "version": "3.10.8"
  }
 },
 "nbformat": 4,
 "nbformat_minor": 5
}
