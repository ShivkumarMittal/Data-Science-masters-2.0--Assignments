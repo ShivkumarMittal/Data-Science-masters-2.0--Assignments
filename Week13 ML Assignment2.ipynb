{
 "cells": [
  {
   "cell_type": "code",
   "execution_count": null,
   "id": "3c45ff5f",
   "metadata": {},
   "outputs": [],
   "source": [
    "Q1: Define overfitting and underfitting in machine learning. What are the consequences of each, and how\n",
    "can they be mitigated?"
   ]
  },
  {
   "cell_type": "code",
   "execution_count": null,
   "id": "befc7e20",
   "metadata": {},
   "outputs": [],
   "source": [
    "Overfitting : When the model give high accuracy at the time of training whereas give low accuracy at the \n",
    "time of test this is known as Overfitting \n",
    "When the model is LOW BIAS and HIGH VARIANCE the model called as overfitted\n",
    "This problem come when model is perfectally trained at the training data no matter it is outlier or not it \n",
    "is perfectally trained due to which at the time of test its accuracy decreases because model is trained on\n",
    "outleiers as well\n",
    "To overcome this we have to remove outlier or not completely trained as per training data "
   ]
  },
  {
   "cell_type": "code",
   "execution_count": null,
   "id": "743bbb7b",
   "metadata": {},
   "outputs": [],
   "source": [
    "Underfitting: When the model give low accuracy at the time of training this is genuine that it will also \n",
    "give low accuracy at the time of test this ois known as underifitting\n",
    "When the model is HIGH BIAS and HIGH VARIANCE the model is called as underfitted\n",
    "This problem come due to less data due to which model not able to predict the output\n",
    "To overcome this we can increase the data keep in mind that we have to make generalised model which is \n",
    "LOW BIAS and LOW VARIANCE"
   ]
  },
  {
   "cell_type": "code",
   "execution_count": null,
   "id": "0aa27d04",
   "metadata": {},
   "outputs": [],
   "source": [
    "Q2: How can we reduce overfitting? Explain in brief."
   ]
  },
  {
   "cell_type": "code",
   "execution_count": null,
   "id": "16d558b3",
   "metadata": {},
   "outputs": [],
   "source": [
    "This problem come when model is perfectally trained at the training data no matter it is outlier or not it \n",
    "is perfectally trained due to which at the time of test its accuracy decreases because model is trained on\n",
    "outleiers as well\n",
    "To overcome this we have to remove outlier or not completely trained as per training data \n",
    "we should only select the most important features for training so that our model doesn’t need to learn for \n",
    "so many features and eventually overfit."
   ]
  },
  {
   "cell_type": "code",
   "execution_count": null,
   "id": "cd089e12",
   "metadata": {},
   "outputs": [],
   "source": [
    "Q3: Explain underfitting. List scenarios where underfitting can occur in ML."
   ]
  },
  {
   "cell_type": "code",
   "execution_count": null,
   "id": "7f4b72fa",
   "metadata": {},
   "outputs": [],
   "source": [
    "When the model is HIGH BIAS and HIGH VARIANCE the model is called as underfitted.\n",
    "When the data for training is not abailable in good amount or have a noise or outlier in dataset "
   ]
  },
  {
   "cell_type": "code",
   "execution_count": null,
   "id": "c62e87c8",
   "metadata": {},
   "outputs": [],
   "source": [
    "Q4: Explain the bias-variance tradeoff in machine learning. What is the relationship between bias and\n",
    "variance, and how do they affect model performance?"
   ]
  },
  {
   "cell_type": "code",
   "execution_count": null,
   "id": "4b1c4ff9",
   "metadata": {},
   "outputs": [],
   "source": [
    "If the algorithm is too simple then there is chance of High Bias and if it is too complex then there is a \n",
    "chance of High Variance so we have to keep algo in medium sothat generalised model can be build"
   ]
  },
  {
   "cell_type": "code",
   "execution_count": null,
   "id": "87f1a2cb",
   "metadata": {},
   "outputs": [],
   "source": [
    "Q5: Discuss some common methods for detecting overfitting and underfitting in machine learning models.\n",
    "How can you determine whether your model is overfitting or underfitting?"
   ]
  },
  {
   "cell_type": "code",
   "execution_count": null,
   "id": "1f711afa",
   "metadata": {},
   "outputs": [],
   "source": [
    "With the help of validation data we check the training accuracy and with test data identify the test \n",
    "accuracy if at test accuracy is low the model is overfitted and we can use regularisation,cross validation\n",
    "feature selection etc"
   ]
  },
  {
   "cell_type": "code",
   "execution_count": null,
   "id": "aa2c55a7",
   "metadata": {},
   "outputs": [],
   "source": [
    "Q6: Compare and contrast bias and variance in machine learning. What are some examples of high bias\n",
    "and high variance models, and how do they differ in terms of their performance?"
   ]
  },
  {
   "cell_type": "code",
   "execution_count": null,
   "id": "85708dd1",
   "metadata": {},
   "outputs": [],
   "source": [
    "Bias: It is the eror bw predicted value and the actual value if the error is high we called it High Bias\n",
    "Linear Regression model will have a high bias if the data is non linear\n",
    "High Bias come when we take too many assumption to predict target value\n",
    "\n",
    "Variance: Variance is the measure of spread in data from its mean position. In machine learning variance is\n",
    "the amount by which the performance of a predictive model changes when it is trained on different subsets\n",
    "of the training data. \n",
    "Ways to reduce Variance:\n",
    "1> Cross Validation\n",
    "2> Feature Selection\n",
    "3> Ensemble technique"
   ]
  },
  {
   "cell_type": "code",
   "execution_count": null,
   "id": "daa28467",
   "metadata": {},
   "outputs": [],
   "source": [
    "Q7: What is regularization in machine learning, and how can it be used to prevent overfitting? Describe\n",
    "some common regularization techniques and how they work."
   ]
  },
  {
   "cell_type": "code",
   "execution_count": null,
   "id": "5907af4a",
   "metadata": {},
   "outputs": [],
   "source": [
    "Regularization is a technique used to reduce errors by fitting the function appropriately on the given\n",
    "training set and avoiding overfitting. The commonly used regularization techniques are : \n",
    "Lasso Regularization – L1 Regularization\n",
    "Ridge Regularization – L2 Regularization\n",
    "Elastic Net Regularization – L1 and L2 Regularization"
   ]
  }
 ],
 "metadata": {
  "kernelspec": {
   "display_name": "Python 3 (ipykernel)",
   "language": "python",
   "name": "python3"
  },
  "language_info": {
   "codemirror_mode": {
    "name": "ipython",
    "version": 3
   },
   "file_extension": ".py",
   "mimetype": "text/x-python",
   "name": "python",
   "nbconvert_exporter": "python",
   "pygments_lexer": "ipython3",
   "version": "3.9.12"
  }
 },
 "nbformat": 4,
 "nbformat_minor": 5
}
