{
 "cells": [
  {
   "cell_type": "code",
   "execution_count": null,
   "id": "043e3d7e",
   "metadata": {},
   "outputs": [],
   "source": [
    "Q1. What is a projection and how is it used in PCA?"
   ]
  },
  {
   "cell_type": "code",
   "execution_count": null,
   "id": "f881fe3c",
   "metadata": {},
   "outputs": [],
   "source": [
    "Projection: How much part of a thing(can be a line,person etc) is fall onto the other thing is its\n",
    "    projection  \n",
    "In PCA we have to find new coordinate axis for which the variance of datapoint very on different axises\n",
    "and PC1 will be the one which has highest variance and be select that one only if we want to convert n \n",
    "dimension data to 1 dimension"
   ]
  },
  {
   "cell_type": "code",
   "execution_count": null,
   "id": "5664392f",
   "metadata": {},
   "outputs": [],
   "source": [
    "Q2. How does the optimization problem in PCA work, and what is it trying to achieve?"
   ]
  },
  {
   "cell_type": "code",
   "execution_count": null,
   "id": "3c9997a7",
   "metadata": {},
   "outputs": [],
   "source": [
    "Optimisation problem:First We calculate the projection of all point on a unit vector by u transpose x and \n",
    "    now we calculate variance for all these projected point and now we calculate covariance matrix and then \n",
    "    do eigen decomposition and calculate eigen value and eigen vector and the vector which has highest eigen\n",
    "    value will be our principal component 1 or unit vector which we are trying to find in optimisation \n",
    "    problem\n",
    "    We have to find that unit vector for which our variance is maximum"
   ]
  },
  {
   "cell_type": "code",
   "execution_count": null,
   "id": "9ee7d51e",
   "metadata": {},
   "outputs": [],
   "source": [
    "Q3. What is the relationship between covariance matrices and PCA?"
   ]
  },
  {
   "cell_type": "code",
   "execution_count": null,
   "id": "0bb36991",
   "metadata": {},
   "outputs": [],
   "source": [
    "For transformation we use covariance matrix and calculate eigen value and eigen vector \n",
    "the highest eigen vector will be our principal component 1 "
   ]
  },
  {
   "cell_type": "code",
   "execution_count": null,
   "id": "71ea7ac5",
   "metadata": {},
   "outputs": [],
   "source": [
    "Q4. How does the choice of number of principal components impact the performance of PCA?"
   ]
  },
  {
   "cell_type": "code",
   "execution_count": null,
   "id": "c0100bbf",
   "metadata": {},
   "outputs": [],
   "source": [
    "Number of principal component is equal to the dimensionality of our data.\n",
    "Reducing the number of dimension con decrease the complexcity of our data and helps us to visualise the \n",
    "data\n"
   ]
  },
  {
   "cell_type": "code",
   "execution_count": null,
   "id": "f8d32418",
   "metadata": {},
   "outputs": [],
   "source": [
    "Q5. How can PCA be used in feature selection, and what are the benefits of using it for this purpose?"
   ]
  },
  {
   "cell_type": "code",
   "execution_count": null,
   "id": "5d48c2f5",
   "metadata": {},
   "outputs": [],
   "source": [
    "PCA can be used for feature selection for this we select the top principal components equals to the no of \n",
    "feature we want\n",
    "the benefit of PCA is that we are not completely ignoring the other feature"
   ]
  },
  {
   "cell_type": "code",
   "execution_count": null,
   "id": "3593f9b9",
   "metadata": {},
   "outputs": [],
   "source": [
    "Q6. What are some common applications of PCA in data science and machine learning?"
   ]
  },
  {
   "cell_type": "code",
   "execution_count": null,
   "id": "0708de05",
   "metadata": {},
   "outputs": [],
   "source": [
    "PCA is a unsupervised machine learning algorithm which is used for feature extration\n",
    "We use PCA for converting our data from higher dimension to lower dimension. Which reduces the complexcity \n",
    "of our data and help us to visualise the data \n",
    "Application:\n",
    "    We can use PCA algo for Image compression\n",
    "    "
   ]
  },
  {
   "cell_type": "code",
   "execution_count": null,
   "id": "b4578677",
   "metadata": {},
   "outputs": [],
   "source": [
    "Q7.What is the relationship between spread and variance in PCA?"
   ]
  },
  {
   "cell_type": "code",
   "execution_count": null,
   "id": "fa5bed15",
   "metadata": {},
   "outputs": [],
   "source": [
    "Variancea and Spread are not equal. Variance is directly propotional to the Spread . that is as the spread \n",
    "of data increases the variance also increases and vice versa"
   ]
  },
  {
   "cell_type": "code",
   "execution_count": null,
   "id": "937ee4a6",
   "metadata": {},
   "outputs": [],
   "source": [
    "Q8. How does PCA use the spread and variance of the data to identify principal components?"
   ]
  },
  {
   "cell_type": "code",
   "execution_count": null,
   "id": "eeea01da",
   "metadata": {},
   "outputs": [],
   "source": [
    "The vector which has highest variance of projection of data point will be our principal component\n",
    "We use covariance matrix to identify eigen value and eigen vector. The highest eigen vector will be our \n",
    "principal component. We use variance in covariance because diagonal element in covariance matrix are \n",
    "variance so that is how we use variance to calculate principal components"
   ]
  },
  {
   "cell_type": "code",
   "execution_count": null,
   "id": "5b575262",
   "metadata": {},
   "outputs": [],
   "source": [
    "Q9. How does PCA handle data with high variance in some dimensions but low variance in others?"
   ]
  },
  {
   "cell_type": "code",
   "execution_count": null,
   "id": "b2559026",
   "metadata": {},
   "outputs": [],
   "source": [
    "Although in such case we can directly use feature selection no such need of feature exraction because \n",
    "variance is different on different dimensions\n",
    "PCA can handle this situation also the algo try to find the more high variance dimension on principal \n",
    "component and work same as explain above if in output same dimension came which has high variance we have \n",
    "no problem."
   ]
  },
  {
   "cell_type": "code",
   "execution_count": null,
   "id": "bd74eaf6",
   "metadata": {},
   "outputs": [],
   "source": []
  }
 ],
 "metadata": {
  "kernelspec": {
   "display_name": "Python 3 (ipykernel)",
   "language": "python",
   "name": "python3"
  },
  "language_info": {
   "codemirror_mode": {
    "name": "ipython",
    "version": 3
   },
   "file_extension": ".py",
   "mimetype": "text/x-python",
   "name": "python",
   "nbconvert_exporter": "python",
   "pygments_lexer": "ipython3",
   "version": "3.9.12"
  }
 },
 "nbformat": 4,
 "nbformat_minor": 5
}
