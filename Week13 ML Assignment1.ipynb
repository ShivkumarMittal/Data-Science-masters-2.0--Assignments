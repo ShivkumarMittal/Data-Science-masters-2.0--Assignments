{
 "cells": [
  {
   "cell_type": "code",
   "execution_count": null,
   "id": "549ef7e8",
   "metadata": {},
   "outputs": [],
   "source": [
    "Q1- Explain the following with an example:\n",
    "a) Artificial Intelligenc\n",
    "b) Machine Learning,\n",
    "c) Deep Learning"
   ]
  },
  {
   "cell_type": "code",
   "execution_count": null,
   "id": "54df2fce",
   "metadata": {},
   "outputs": [],
   "source": [
    "a) Artificial Intelligence: As the name said the intelligence which is in a artificial or manmade thing ,\n",
    "    the field of creation of this intelligence is known as AI\n",
    "    Example: Robots are the best example of AI, Robots have the intelligence as the human being or can work \n",
    "    much faster than human being"
   ]
  },
  {
   "cell_type": "code",
   "execution_count": null,
   "id": "e35a0005",
   "metadata": {},
   "outputs": [],
   "source": [
    "b) Machine Learning : It is all about to train a data with some algorithm or maths function sothat when we \n",
    "    give new data to that model it can predict the result\n",
    "    Example: House Price Predictor , We give the past data of houses run some algo on that data and predict \n",
    "    the new house data"
   ]
  },
  {
   "cell_type": "code",
   "execution_count": null,
   "id": "c9e6b51a",
   "metadata": {},
   "outputs": [],
   "source": [
    "c) Deep Learning : It comes under the category of machine learning .It is a machine learning based on neural\n",
    "    network with multiple layers of processing to extract feature more accurately.\n",
    "    Example: Driverless Car , the model is trained with millions of photoes and videos sothat model can \n",
    "    identify the pattern at which point it should stop or when to run"
   ]
  },
  {
   "cell_type": "code",
   "execution_count": null,
   "id": "440b8d1e",
   "metadata": {},
   "outputs": [],
   "source": [
    "Q2- What is supervised learning List some examples of supervised learning."
   ]
  },
  {
   "cell_type": "code",
   "execution_count": null,
   "id": "242f943f",
   "metadata": {},
   "outputs": [],
   "source": [
    "In supervised learning we have independent feature represented by x and have dependent feature which is \n",
    "represented by y and we have to predict the value of y on the basis of x\n",
    "Example: Prediction of cricket score\n",
    "prediction of passing the exam"
   ]
  },
  {
   "cell_type": "code",
   "execution_count": null,
   "id": "da7e7f43",
   "metadata": {},
   "outputs": [],
   "source": [
    "Q3- What is unsupervised learning? List some examples of unsupervised learning."
   ]
  },
  {
   "cell_type": "code",
   "execution_count": null,
   "id": "66a7bf69",
   "metadata": {},
   "outputs": [],
   "source": [
    "In unsupervised learning we do not have dependent feature, intead we have clusters of data and when new \n",
    "data point come we have to predict in which cluster it will fall.\n",
    "Example: Customer Segmentation, we can predict weather the customer will buy our product or not .if it is\n",
    "not then how we can call them may be more marketing for that particular cluster type people or may be any \n",
    "special discount."
   ]
  },
  {
   "cell_type": "code",
   "execution_count": null,
   "id": "b3e5134a",
   "metadata": {},
   "outputs": [],
   "source": [
    "Q4- What is the difference between AI, ML, DL, and DS?"
   ]
  },
  {
   "cell_type": "code",
   "execution_count": null,
   "id": "21c23831",
   "metadata": {},
   "outputs": [],
   "source": [
    "DL is a subset of ML and ML is a subset of AI whereas all three AI,DL,ML come under Data Science or we can \n",
    "say to be a data scientist we should have a knowledge of all fields "
   ]
  },
  {
   "cell_type": "code",
   "execution_count": null,
   "id": "2e612036",
   "metadata": {},
   "outputs": [],
   "source": [
    "Q5- What are the main differences between supervised, unsupervised, and semi-supervised learning?"
   ]
  },
  {
   "cell_type": "code",
   "execution_count": null,
   "id": "4356cd8b",
   "metadata": {},
   "outputs": [],
   "source": [
    "The main difference bw the two supervised and unsupervised ml algo is that supervised ml have output or \n",
    "lavel corresponding to each data point whereas unsupervised ml algo do not . Semi-Supervised falls in bw \n",
    "both where some data is labbled and some is unlabbled"
   ]
  },
  {
   "cell_type": "code",
   "execution_count": null,
   "id": "411d2862",
   "metadata": {},
   "outputs": [],
   "source": [
    "Q6- What is train, test and validation split? Explain the importance of each term."
   ]
  },
  {
   "cell_type": "code",
   "execution_count": null,
   "id": "6ea447fb",
   "metadata": {},
   "outputs": [],
   "source": [
    "The dividation of dataset into two grops one is used for training purpose and otherone is for test is known \n",
    "as train test validation.\n",
    "It is important to hide some data from model sothat we can test our model and can check accuracy or \n",
    "performance"
   ]
  },
  {
   "cell_type": "code",
   "execution_count": null,
   "id": "0d0cb43d",
   "metadata": {},
   "outputs": [],
   "source": [
    "Q7- How can unsupervised learning be used in anomaly detection?"
   ]
  },
  {
   "cell_type": "code",
   "execution_count": null,
   "id": "aa2d9b4a",
   "metadata": {},
   "outputs": [],
   "source": [
    "Unsupervised learning can be used in Anomaly detetion or outlier detection. These outlier point not fit to \n",
    "our cluster. They will outside or far from cluster so we can identify these outliers"
   ]
  },
  {
   "cell_type": "code",
   "execution_count": null,
   "id": "51e2fff0",
   "metadata": {},
   "outputs": [],
   "source": [
    "Q8- List down some commonly used supervised learning algorithms and unsupervised learning algorithms."
   ]
  },
  {
   "cell_type": "code",
   "execution_count": null,
   "id": "af1ce6e0",
   "metadata": {},
   "outputs": [],
   "source": [
    "Supervised ML ALGO:\n",
    "    1> Linear Regression\n",
    "    2>Ridge ,Lasso Regression\n",
    "    3> logistic Regression\n",
    "    4>Naibe Byes\n",
    "    5>Decision Tree\n",
    "    6>SVM\n",
    "    7> Random Forest\n",
    "    8>Adaboost,XGboost\n",
    "    \n",
    "Unsuperevised ML ALGO:\n",
    "    1>K Means\n",
    "    2>DBSCAN\n",
    "    3>KNN"
   ]
  }
 ],
 "metadata": {
  "kernelspec": {
   "display_name": "Python 3 (ipykernel)",
   "language": "python",
   "name": "python3"
  },
  "language_info": {
   "codemirror_mode": {
    "name": "ipython",
    "version": 3
   },
   "file_extension": ".py",
   "mimetype": "text/x-python",
   "name": "python",
   "nbconvert_exporter": "python",
   "pygments_lexer": "ipython3",
   "version": "3.9.12"
  }
 },
 "nbformat": 4,
 "nbformat_minor": 5
}
