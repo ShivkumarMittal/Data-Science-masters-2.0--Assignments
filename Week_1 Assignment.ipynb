{
 "cells": [
  {
   "cell_type": "markdown",
   "id": "fc6f6eda-907a-41e8-9dda-aabbfbafa609",
   "metadata": {},
   "source": [
    "<u>___Week 1 Assignment___</u>"
   ]
  },
  {
   "cell_type": "markdown",
   "id": "253940bc-bd0d-41bc-842d-c76a43ed73e7",
   "metadata": {},
   "source": [
    "Que_1 : Create one variable containing following type data:\n",
    "        (i)   string\n",
    "        (ii)  list\n",
    "        (iii) float\n",
    "        (iv)  tuple"
   ]
  },
  {
   "cell_type": "code",
   "execution_count": 5,
   "id": "e168f0de-275c-460d-b267-d36be2a15ee6",
   "metadata": {},
   "outputs": [
    {
     "data": {
      "text/plain": [
       "str"
      ]
     },
     "execution_count": 5,
     "metadata": {},
     "output_type": "execute_result"
    }
   ],
   "source": [
    "s = \"shiv\"\n",
    "type(s)"
   ]
  },
  {
   "cell_type": "code",
   "execution_count": 6,
   "id": "fa4db09d-06e1-4c0f-82c6-6b6b4bed0155",
   "metadata": {},
   "outputs": [
    {
     "data": {
      "text/plain": [
       "list"
      ]
     },
     "execution_count": 6,
     "metadata": {},
     "output_type": "execute_result"
    }
   ],
   "source": [
    "l =  [2,4,'karan', True,25.645]\n",
    "type(l)"
   ]
  },
  {
   "cell_type": "code",
   "execution_count": 7,
   "id": "2a2e72c1-081f-4398-93d1-dd8e2b52abb2",
   "metadata": {},
   "outputs": [
    {
     "data": {
      "text/plain": [
       "float"
      ]
     },
     "execution_count": 7,
     "metadata": {},
     "output_type": "execute_result"
    }
   ],
   "source": [
    "f = 25.67\n",
    "type(f)"
   ]
  },
  {
   "cell_type": "code",
   "execution_count": 9,
   "id": "504d4886-2eea-4f97-8a67-98c9598b7440",
   "metadata": {},
   "outputs": [
    {
     "data": {
      "text/plain": [
       "tuple"
      ]
     },
     "execution_count": 9,
     "metadata": {},
     "output_type": "execute_result"
    }
   ],
   "source": [
    "t = (2,5,'vinod',3+4j,85.32,False)\n",
    "type(t)"
   ]
  },
  {
   "cell_type": "markdown",
   "id": "06541d4b-6a93-4ff7-b4ad-73d78a3ae590",
   "metadata": {},
   "source": [
    "Que_2 : Given are some following variables containing data:\n",
    "\n",
    "(i) var1=''\n",
    "\n",
    "(ii)var2='[DS,ML,Python]'\n",
    "\n",
    "(iii)var3=['DS','ML','Python']\n",
    "\n",
    "(iv)var4=1"
   ]
  },
  {
   "cell_type": "code",
   "execution_count": 10,
   "id": "217af711-7cb0-4a6b-92b1-6fed649d097f",
   "metadata": {},
   "outputs": [
    {
     "data": {
      "text/plain": [
       "str"
      ]
     },
     "execution_count": 10,
     "metadata": {},
     "output_type": "execute_result"
    }
   ],
   "source": [
    "var1=' '\n",
    "type(var1)"
   ]
  },
  {
   "cell_type": "code",
   "execution_count": 11,
   "id": "3ecb5e15-1930-4d1b-9ae7-bb99b04bf129",
   "metadata": {},
   "outputs": [
    {
     "data": {
      "text/plain": [
       "str"
      ]
     },
     "execution_count": 11,
     "metadata": {},
     "output_type": "execute_result"
    }
   ],
   "source": [
    "var2='[DS,ML,Python]'\n",
    "type(var2)"
   ]
  },
  {
   "cell_type": "code",
   "execution_count": 12,
   "id": "b251b40d-614f-4324-9b50-a2abe9c641d2",
   "metadata": {},
   "outputs": [
    {
     "data": {
      "text/plain": [
       "list"
      ]
     },
     "execution_count": 12,
     "metadata": {},
     "output_type": "execute_result"
    }
   ],
   "source": [
    "var3=['DS','ML','Python']\n",
    "type(var3)"
   ]
  },
  {
   "cell_type": "code",
   "execution_count": 13,
   "id": "be57281f-1ce5-4f83-952a-656b56b20889",
   "metadata": {},
   "outputs": [
    {
     "data": {
      "text/plain": [
       "int"
      ]
     },
     "execution_count": 13,
     "metadata": {},
     "output_type": "execute_result"
    }
   ],
   "source": [
    "var4=1\n",
    "type(var4)"
   ]
  },
  {
   "cell_type": "markdown",
   "id": "c4fb34ed-f8a9-44b1-866f-5ebce85a2fac",
   "metadata": {},
   "source": [
    "Que_3 : Explain the use of the following operations using an example:\n",
    "\n",
    "        (i)/\n",
    "        \n",
    "        (ii)%\n",
    "        \n",
    "        (iii)//\n",
    "        \n",
    "        (iv)**"
   ]
  },
  {
   "cell_type": "markdown",
   "id": "b3b31e8e-c8e4-4241-a2a0-add25c6e161f",
   "metadata": {},
   "source": [
    "(i) / => use for division gives output in floating number ex:"
   ]
  },
  {
   "cell_type": "code",
   "execution_count": 14,
   "id": "aa86948e-7bac-4b8d-b565-e29a881647ae",
   "metadata": {},
   "outputs": [
    {
     "data": {
      "text/plain": [
       "1.6666666666666667"
      ]
     },
     "execution_count": 14,
     "metadata": {},
     "output_type": "execute_result"
    }
   ],
   "source": [
    "5/3"
   ]
  },
  {
   "cell_type": "code",
   "execution_count": 17,
   "id": "98e59d1d-d913-4068-b61e-626dcb54f675",
   "metadata": {},
   "outputs": [
    {
     "data": {
      "text/plain": [
       "float"
      ]
     },
     "execution_count": 17,
     "metadata": {},
     "output_type": "execute_result"
    }
   ],
   "source": [
    "a = 4/2\n",
    "type(a)"
   ]
  },
  {
   "cell_type": "code",
   "execution_count": 18,
   "id": "e936bdfe-ddce-4366-9db3-778bf32ae80c",
   "metadata": {},
   "outputs": [
    {
     "data": {
      "text/plain": [
       "0.044444444444444446"
      ]
     },
     "execution_count": 18,
     "metadata": {},
     "output_type": "execute_result"
    }
   ],
   "source": [
    "2/45"
   ]
  },
  {
   "cell_type": "code",
   "execution_count": 20,
   "id": "de309655-c468-4cb5-9724-073af82ea190",
   "metadata": {},
   "outputs": [
    {
     "data": {
      "text/plain": [
       "0.0"
      ]
     },
     "execution_count": 20,
     "metadata": {},
     "output_type": "execute_result"
    }
   ],
   "source": [
    "False/True"
   ]
  },
  {
   "cell_type": "markdown",
   "id": "823450f1-a6b2-4116-8b34-075514852ed9",
   "metadata": {},
   "source": [
    "(ii) % => use to take modulus on division of two number,\n",
    "          the output will be always non-negative integer  ex:"
   ]
  },
  {
   "cell_type": "code",
   "execution_count": 21,
   "id": "7ad8732f-4c94-45f5-b267-2825ca687175",
   "metadata": {},
   "outputs": [
    {
     "data": {
      "text/plain": [
       "2"
      ]
     },
     "execution_count": 21,
     "metadata": {},
     "output_type": "execute_result"
    }
   ],
   "source": [
    "5%3"
   ]
  },
  {
   "cell_type": "code",
   "execution_count": 22,
   "id": "ed47325a-8f5e-4d32-afab-531632f1deea",
   "metadata": {},
   "outputs": [
    {
     "data": {
      "text/plain": [
       "3"
      ]
     },
     "execution_count": 22,
     "metadata": {},
     "output_type": "execute_result"
    }
   ],
   "source": [
    "3%5"
   ]
  },
  {
   "cell_type": "markdown",
   "id": "ecfe6708-9393-40b3-be38-c300e8549076",
   "metadata": {},
   "source": [
    "(iii) // => use to take floor value on division ex:"
   ]
  },
  {
   "cell_type": "code",
   "execution_count": 23,
   "id": "b803988c-4da8-47be-9b64-29a3ea3d05f5",
   "metadata": {},
   "outputs": [
    {
     "data": {
      "text/plain": [
       "1"
      ]
     },
     "execution_count": 23,
     "metadata": {},
     "output_type": "execute_result"
    }
   ],
   "source": [
    "5//3"
   ]
  },
  {
   "cell_type": "code",
   "execution_count": 24,
   "id": "aa9b47d5-462b-4f2e-8bd0-616b7a83a218",
   "metadata": {},
   "outputs": [
    {
     "data": {
      "text/plain": [
       "0"
      ]
     },
     "execution_count": 24,
     "metadata": {},
     "output_type": "execute_result"
    }
   ],
   "source": [
    "3//5"
   ]
  },
  {
   "cell_type": "markdown",
   "id": "2590b0d7-8e5f-472a-b898-cc65a1a294f9",
   "metadata": {},
   "source": [
    "-8//5"
   ]
  },
  {
   "cell_type": "markdown",
   "id": "606187db-cdf0-4cfc-841c-06acace6382e",
   "metadata": {},
   "source": [
    "(iv) ** => use for power operation ex:"
   ]
  },
  {
   "cell_type": "code",
   "execution_count": 27,
   "id": "b2bcfaab-c6a0-4c80-bd6d-b79d06845cfc",
   "metadata": {},
   "outputs": [
    {
     "data": {
      "text/plain": [
       "125"
      ]
     },
     "execution_count": 27,
     "metadata": {},
     "output_type": "execute_result"
    }
   ],
   "source": [
    "5**3"
   ]
  },
  {
   "cell_type": "code",
   "execution_count": 28,
   "id": "81ac4e35-adea-4c6c-bb57-77626703832f",
   "metadata": {},
   "outputs": [
    {
     "data": {
      "text/plain": [
       "25"
      ]
     },
     "execution_count": 28,
     "metadata": {},
     "output_type": "execute_result"
    }
   ],
   "source": [
    "5**2"
   ]
  },
  {
   "cell_type": "code",
   "execution_count": 31,
   "id": "a88ca5ee-2c61-4ad7-a283-ac6f65065294",
   "metadata": {},
   "outputs": [
    {
     "data": {
      "text/plain": [
       "1"
      ]
     },
     "execution_count": 31,
     "metadata": {},
     "output_type": "execute_result"
    }
   ],
   "source": [
    "(-1)**2"
   ]
  },
  {
   "cell_type": "markdown",
   "id": "27387fde-7d75-4b7b-b998-a28f5d7982e6",
   "metadata": {},
   "source": [
    "Que_4 : Create a list of length 10 of your choice containing multiple types of data. Using for loop \n",
    "        print the element and its type."
   ]
  },
  {
   "cell_type": "code",
   "execution_count": 33,
   "id": "5b08b4fa-6039-48ea-834b-d5a6cfd74c0e",
   "metadata": {},
   "outputs": [],
   "source": [
    "list = [1,52.58,True,'karan',5+4j,87,\"vikas\",98.25,56,6+10j]"
   ]
  },
  {
   "cell_type": "code",
   "execution_count": 34,
   "id": "52f5055b-7a08-48e1-b59c-e64ecd4c9bc4",
   "metadata": {},
   "outputs": [
    {
     "data": {
      "text/plain": [
       "10"
      ]
     },
     "execution_count": 34,
     "metadata": {},
     "output_type": "execute_result"
    }
   ],
   "source": [
    "len(list)"
   ]
  },
  {
   "cell_type": "code",
   "execution_count": 16,
   "id": "f7f619f3-9163-4f18-8e2f-9d4215bd3ae6",
   "metadata": {},
   "outputs": [
    {
     "name": "stdout",
     "output_type": "stream",
     "text": [
      "1\n",
      "type of  1 = <class 'int'>\n",
      "\n",
      "2\n",
      "type of  2 = <class 'int'>\n",
      "\n",
      "3\n",
      "type of  3 = <class 'int'>\n",
      "\n",
      "6\n",
      "type of  6 = <class 'int'>\n",
      "\n",
      "87\n",
      "type of  87 = <class 'int'>\n",
      "\n",
      "95\n",
      "type of  95 = <class 'int'>\n",
      "\n",
      "74\n",
      "type of  74 = <class 'int'>\n",
      "\n",
      "58\n",
      "type of  58 = <class 'int'>\n",
      "\n",
      "58\n",
      "type of  58 = <class 'int'>\n",
      "\n",
      "8\n",
      "type of  8 = <class 'int'>\n",
      "\n",
      "56\n",
      "type of  56 = <class 'int'>\n",
      "\n",
      "94\n",
      "type of  94 = <class 'int'>\n",
      "\n",
      "572\n",
      "type of  572 = <class 'int'>\n",
      "\n",
      "595\n",
      "type of  595 = <class 'int'>\n",
      "\n",
      "255\n",
      "type of  255 = <class 'int'>\n",
      "\n",
      "54\n",
      "type of  54 = <class 'int'>\n",
      "\n",
      "1226\n",
      "type of  1226 = <class 'int'>\n",
      "\n",
      "58\n",
      "type of  58 = <class 'int'>\n",
      "\n",
      "41\n",
      "type of  41 = <class 'int'>\n",
      "\n",
      "26\n",
      "type of  26 = <class 'int'>\n",
      "\n",
      "85\n",
      "type of  85 = <class 'int'>\n",
      "\n",
      "85\n",
      "type of  85 = <class 'int'>\n",
      "\n",
      "665\n",
      "type of  665 = <class 'int'>\n",
      "\n",
      "87\n",
      "type of  87 = <class 'int'>\n",
      "\n",
      "12\n",
      "type of  12 = <class 'int'>\n",
      "\n"
     ]
    }
   ],
   "source": [
    "for i in list:\n",
    "    print(i)\n",
    "    print(\"type of \", i , \"=\" ,type(i))\n",
    "    print()"
   ]
  },
  {
   "cell_type": "markdown",
   "id": "2a897ac0-e032-49cc-bbc7-56c2b525f432",
   "metadata": {},
   "source": [
    "Que-5 : Using a while loop,verify if the number A is purely divisible by number B and if so then how many times it can be divisible."
   ]
  },
  {
   "cell_type": "code",
   "execution_count": 44,
   "id": "dce41c5b-6a00-414c-8b35-16298367b99e",
   "metadata": {},
   "outputs": [
    {
     "name": "stdin",
     "output_type": "stream",
     "text": [
      "enter first number 25\n",
      "enter second number 5\n"
     ]
    },
    {
     "name": "stdout",
     "output_type": "stream",
     "text": [
      "25 is divisible by 5 is 5 times\n"
     ]
    }
   ],
   "source": [
    "A = int(input(\"enter first number\"))\n",
    "B = int(input(\"enter second number\"))\n",
    "\n",
    "if A%B==0 :\n",
    "        print(A ,\"is divisible by\", B , \"is\" ,A//B,\"times\")\n",
    "else:\n",
    "        print(\"not purely divisible change the number\")"
   ]
  },
  {
   "cell_type": "markdown",
   "id": "6d544b3e-ac5e-43b7-ad71-d4e120b9ecb1",
   "metadata": {},
   "source": [
    "Que_6 : Create a list containing 25 int type data. Using for loop and if else condition print if the element is divisible by 3 or not."
   ]
  },
  {
   "cell_type": "code",
   "execution_count": 5,
   "id": "25cb4038-0c9b-4947-bb44-f93fdade6b6f",
   "metadata": {},
   "outputs": [],
   "source": [
    "list = [1,2,3,6,87,95,74,58,58,8,56,94,572,595,255,54,1226,58,41,26,85,85,665,87,12]"
   ]
  },
  {
   "cell_type": "code",
   "execution_count": 6,
   "id": "a50f235a-a63e-471e-a8b9-d0d63b1b149c",
   "metadata": {},
   "outputs": [
    {
     "data": {
      "text/plain": [
       "25"
      ]
     },
     "execution_count": 6,
     "metadata": {},
     "output_type": "execute_result"
    }
   ],
   "source": [
    "len(list)"
   ]
  },
  {
   "cell_type": "code",
   "execution_count": 7,
   "id": "303e4013-35f8-4a67-a605-aae3897b278b",
   "metadata": {},
   "outputs": [
    {
     "name": "stdout",
     "output_type": "stream",
     "text": [
      "1 is not divisible by 3\n",
      "2 is not divisible by 3\n",
      "3 is divisible by 3\n",
      "6 is divisible by 3\n",
      "87 is divisible by 3\n",
      "95 is not divisible by 3\n",
      "74 is not divisible by 3\n",
      "58 is not divisible by 3\n",
      "58 is not divisible by 3\n",
      "8 is not divisible by 3\n",
      "56 is not divisible by 3\n",
      "94 is not divisible by 3\n",
      "572 is not divisible by 3\n",
      "595 is not divisible by 3\n",
      "255 is divisible by 3\n",
      "54 is divisible by 3\n",
      "1226 is not divisible by 3\n",
      "58 is not divisible by 3\n",
      "41 is not divisible by 3\n",
      "26 is not divisible by 3\n",
      "85 is not divisible by 3\n",
      "85 is not divisible by 3\n",
      "665 is not divisible by 3\n",
      "87 is divisible by 3\n",
      "12 is divisible by 3\n"
     ]
    }
   ],
   "source": [
    "for i in list :\n",
    "    if i%3==0 :\n",
    "        print(i,\"is divisible by 3\")\n",
    "    else:\n",
    "        print(i,\"is not divisible by 3\")"
   ]
  },
  {
   "cell_type": "markdown",
   "id": "5779cdad-38f3-466c-ac95-99814e69115b",
   "metadata": {},
   "source": [
    "Que_7 : What do you understand about mutable and immutable datatypes ? Give examples for both showing this property."
   ]
  },
  {
   "cell_type": "markdown",
   "id": "40733ff6-3acd-428d-b539-809f0676ebc7",
   "metadata": {},
   "source": [
    "Mutable : means we can not update data of a particular index  at the same memory location after execution of that datatype.\n",
    "ex: String , Tuple"
   ]
  },
  {
   "cell_type": "code",
   "execution_count": 8,
   "id": "5c4ba0ce-cf66-4993-bf9f-20d92695ced7",
   "metadata": {},
   "outputs": [],
   "source": [
    "s= \"karan\""
   ]
  },
  {
   "cell_type": "code",
   "execution_count": 10,
   "id": "e32d6cbd-3bed-476a-b4ba-06790719658b",
   "metadata": {},
   "outputs": [
    {
     "ename": "TypeError",
     "evalue": "'str' object does not support item assignment",
     "output_type": "error",
     "traceback": [
      "\u001b[0;31m---------------------------------------------------------------------------\u001b[0m",
      "\u001b[0;31mTypeError\u001b[0m                                 Traceback (most recent call last)",
      "Cell \u001b[0;32mIn[10], line 1\u001b[0m\n\u001b[0;32m----> 1\u001b[0m \u001b[43ms\u001b[49m\u001b[43m[\u001b[49m\u001b[38;5;241;43m0\u001b[39;49m\u001b[43m]\u001b[49m\u001b[38;5;241m=\u001b[39m\u001b[38;5;124m'\u001b[39m\u001b[38;5;124ma\u001b[39m\u001b[38;5;124m'\u001b[39m\n",
      "\u001b[0;31mTypeError\u001b[0m: 'str' object does not support item assignment"
     ]
    }
   ],
   "source": [
    "s[0]='a'"
   ]
  },
  {
   "cell_type": "code",
   "execution_count": 11,
   "id": "592d4193-778e-4f1b-b1a3-eb858f9f95a0",
   "metadata": {},
   "outputs": [],
   "source": [
    "t=(2,'vinod',5+4j,5.62)"
   ]
  },
  {
   "cell_type": "code",
   "execution_count": 12,
   "id": "9e37fb59-ce75-404a-8d5d-3478eca6b745",
   "metadata": {},
   "outputs": [
    {
     "ename": "TypeError",
     "evalue": "'tuple' object does not support item assignment",
     "output_type": "error",
     "traceback": [
      "\u001b[0;31m---------------------------------------------------------------------------\u001b[0m",
      "\u001b[0;31mTypeError\u001b[0m                                 Traceback (most recent call last)",
      "Cell \u001b[0;32mIn[12], line 1\u001b[0m\n\u001b[0;32m----> 1\u001b[0m \u001b[43mt\u001b[49m\u001b[43m[\u001b[49m\u001b[38;5;241;43m1\u001b[39;49m\u001b[43m]\u001b[49m\u001b[38;5;241m=\u001b[39m\u001b[38;5;124m\"\u001b[39m\u001b[38;5;124mkapil\u001b[39m\u001b[38;5;124m\"\u001b[39m\n",
      "\u001b[0;31mTypeError\u001b[0m: 'tuple' object does not support item assignment"
     ]
    }
   ],
   "source": [
    "t[1]=\"kapil\""
   ]
  },
  {
   "cell_type": "markdown",
   "id": "cb563b10-9c0f-4167-bd33-e19c56347d4f",
   "metadata": {},
   "source": [
    "Immutable : means we can  update data of a particular index at the same memory location after execution of that datatype. ex: list"
   ]
  },
  {
   "cell_type": "code",
   "execution_count": 13,
   "id": "8f740757-f6e4-4639-a4bd-0a5c66319775",
   "metadata": {},
   "outputs": [],
   "source": [
    "l=[2,'vinod',5+4j,5.62]"
   ]
  },
  {
   "cell_type": "code",
   "execution_count": 14,
   "id": "ca5b03a7-71e2-4302-806b-fdb1720b6e2d",
   "metadata": {},
   "outputs": [],
   "source": [
    "l[1]=\"kapil\""
   ]
  },
  {
   "cell_type": "code",
   "execution_count": 15,
   "id": "f6a8dbe9-932e-4ce2-a694-a8d95e6584db",
   "metadata": {},
   "outputs": [
    {
     "data": {
      "text/plain": [
       "[2, 'kapil', (5+4j), 5.62]"
      ]
     },
     "execution_count": 15,
     "metadata": {},
     "output_type": "execute_result"
    }
   ],
   "source": [
    "l"
   ]
  }
 ],
 "metadata": {
  "kernelspec": {
   "display_name": "Python 3 (ipykernel)",
   "language": "python",
   "name": "python3"
  },
  "language_info": {
   "codemirror_mode": {
    "name": "ipython",
    "version": 3
   },
   "file_extension": ".py",
   "mimetype": "text/x-python",
   "name": "python",
   "nbconvert_exporter": "python",
   "pygments_lexer": "ipython3",
   "version": "3.10.8"
  }
 },
 "nbformat": 4,
 "nbformat_minor": 5
}
